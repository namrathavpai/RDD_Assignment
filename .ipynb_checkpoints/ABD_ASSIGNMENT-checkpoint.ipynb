{
 "cells": [
  {
   "cell_type": "code",
   "execution_count": 2,
   "metadata": {},
   "outputs": [
    {
     "data": {
      "text/plain": [
       "pyspark.sql.session.SparkSession"
      ]
     },
     "execution_count": 2,
     "metadata": {},
     "output_type": "execute_result"
    }
   ],
   "source": [
    "# import pyspark\n",
    "from pyspark.sql import SparkSession\n",
    "spark = SparkSession.builder.appName(\"RDD_ASSIGNMENT\").getOrCreate()\n",
    "type(spark)"
   ]
  },
  {
   "cell_type": "markdown",
   "metadata": {},
   "source": [
    "1. Create RDDs in three different ways."
   ]
  },
  {
   "cell_type": "code",
   "execution_count": 3,
   "metadata": {},
   "outputs": [
    {
     "name": "stdout",
     "output_type": "stream",
     "text": [
      "['Hello world', 'Hope you are bot fed with ABD class', 'ello']\n"
     ]
    }
   ],
   "source": [
    "#1. Using parallelize method\n",
    "rdd_par = spark.sparkContext.parallelize([\"Hello world\", \"Hope you are bot fed with ABD class\", \"ello\"])\n",
    "print(rdd_par.collect())"
   ]
  },
  {
   "cell_type": "code",
   "execution_count": 4,
   "metadata": {},
   "outputs": [
    {
     "name": "stdout",
     "output_type": "stream",
     "text": [
      "['Hello world', 'Hope you are bot fed with ABD class']\n"
     ]
    }
   ],
   "source": [
    "#2. Using transformation\n",
    "rdd_trans = rdd_par.filter(lambda word : word.startswith('H'))\n",
    "print(rdd_trans.collect())"
   ]
  },
  {
   "cell_type": "code",
   "execution_count": 3,
   "metadata": {},
   "outputs": [
    {
     "name": "stdout",
     "output_type": "stream",
     "text": [
      "['1 2 3 4 5 ', '3 4 5', '7 8 56 78 90 23 ', '4 5 67 34 5']\n"
     ]
    }
   ],
   "source": [
    "#3. Using data source\n",
    "rdd_ds = spark.sparkContext.textFile('number_text_input.txt')\n",
    "print(rdd_ds.collect())"
   ]
  },
  {
   "cell_type": "markdown",
   "metadata": {},
   "source": [
    "2. Read a text file and count number of words in the file using RDD operations"
   ]
  },
  {
   "cell_type": "code",
   "execution_count": null,
   "metadata": {},
   "outputs": [],
   "source": [
    "world_count_file = spark.sparkContext.textFile('number_text_input.txt')\n",
    "rdd_trans_counts = rdd_par.filter(lambda x: x.split(' '))\n",
    "print(type(rdd_trans))\n",
    "words = rdd_trans_counts.flatMap(lambda x: x.split(' '))"
   ]
  }
 ],
 "metadata": {
  "kernelspec": {
   "display_name": "Python 3",
   "language": "python",
   "name": "python3"
  },
  "language_info": {
   "codemirror_mode": {
    "name": "ipython",
    "version": 3
   },
   "file_extension": ".py",
   "mimetype": "text/x-python",
   "name": "python",
   "nbconvert_exporter": "python",
   "pygments_lexer": "ipython3",
   "version": "3.8.5"
  }
 },
 "nbformat": 4,
 "nbformat_minor": 4
}
